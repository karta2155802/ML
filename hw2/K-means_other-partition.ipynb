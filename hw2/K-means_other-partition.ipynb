{
 "cells": [
  {
   "cell_type": "code",
   "execution_count": 45,
   "metadata": {},
   "outputs": [],
   "source": [
    "%matplotlib inline\n",
    "from copy import deepcopy\n",
    "import numpy as np\n",
    "import pandas as pd\n",
    "from matplotlib import pyplot as plt\n",
    "import random"
   ]
  },
  {
   "cell_type": "code",
   "execution_count": 46,
   "metadata": {},
   "outputs": [],
   "source": [
    "#read data\n",
    "source = pd.read_csv('data_noah.csv')\n",
    "data = source[['speed','ftime','pitch_type']]\n",
    "data = data.replace(\"CH\",\"1\")\n",
    "data = data.replace(\"FF\",\"2\")\n",
    "data = data.replace(\"CU\",\"0\")"
   ]
  },
  {
   "cell_type": "code",
   "execution_count": 47,
   "metadata": {},
   "outputs": [],
   "source": [
    "#select features\n",
    "f1 = data['speed'].values\n",
    "f2 = data['ftime'].values\n",
    "X_ori = data.values\n",
    "X = X_ori[:,0:2]\n",
    "X = X.astype(float)\n",
    "target = X_ori[:,2]\n",
    "target = target.astype(float)\n",
    "k=3"
   ]
  },
  {
   "cell_type": "code",
   "execution_count": 62,
   "metadata": {},
   "outputs": [
    {
     "name": "stdout",
     "output_type": "stream",
     "text": [
      "x :  [98.13424189440241, 82.1190603775276, 78.25840281449148]\n",
      "y :  [0.3211879839606597, 0.33247955238350235, 0.32581194351288767]\n"
     ]
    },
    {
     "data": {
      "image/png": "[encoded data removed]",
      "text/plain": [
       "<Figure size 432x288 with 1 Axes>"
      ]
     },
     "metadata": {},
     "output_type": "display_data"
    }
   ],
   "source": [
    "#choose three random points\n",
    "x_cen = [];\n",
    "for i in range (3):\n",
    "    x_cen.append(random.uniform(np.min(X[:,0]), np.max(X[:,0])))\n",
    "y_cen = []\n",
    "for i in range (3):\n",
    "    y_cen.append(random.uniform(np.min(X[:,1]), np.max(X[:,1])))\n",
    "print(\"x : \", x_cen)\n",
    "print(\"y : \", y_cen)\n",
    "C = np.dstack((x_cen,y_cen))\n",
    "C = C[0]\n",
    "plt.scatter(f1, f2, c='y', s=1)\n",
    "plt.scatter(x_cen, y_cen, marker='*', s=200, c='r')\n",
    "C_arg = np.argsort(C[:,0])\n",
    "C = C[C_arg]\n"
   ]
  },
  {
   "cell_type": "code",
   "execution_count": 63,
   "metadata": {},
   "outputs": [
    {
     "name": "stdout",
     "output_type": "stream",
     "text": [
      " 1  cost =  14.530882\n",
      " 2  cost =  10.554894\n",
      " 3  cost =  6.294323\n",
      " 4  cost =  5.223014\n",
      " 5  cost =  5.089737\n",
      " 6  cost =  5.047699\n",
      " 7  cost =  5.047699\n"
     ]
    }
   ],
   "source": [
    "#repeat calculating the means of each cluster until it converges\n",
    "\n",
    "\n",
    "pitch_type = np.zeros(len(X))\n",
    "C_origin = np.zeros(C.shape)\n",
    "f=0\n",
    "\n",
    "while np.linalg.norm(C - C_origin, None) !=0:\n",
    "    f=f+1\n",
    "    cost = 0\n",
    "    for i in range(len(X)):\n",
    "        dis = np.linalg.norm(X[i] - C, axis=1)\n",
    "        pitch_type[i] = np.where(dis==np.min(dis))[0][0]\n",
    "    C_origin = C.copy()\n",
    "    for i in range(k):\n",
    "        points = [X[j] for j in range(len(X)) if pitch_type[j] == i]\n",
    "        C[i] = np.mean(points, axis=0)\n",
    "    C_arg = np.argsort(C[:,0])\n",
    "    C = C[C_arg]\n",
    "    \n",
    "    for i in range(k):\n",
    "        points2 = np.array([X[j] for j in range(len(X)) if pitch_type[j] == i])\n",
    "        x_distance = points2[:,0] - C[i,0]\n",
    "        x_distance_power = np.power(x_distance,2)\n",
    "        y_distance = points2[:,1] - C[i,1]\n",
    "        y_distance_power = np.power(y_distance,2)\n",
    "        distance = np.sum(x_distance_power) + np.sum(y_distance_power)\n",
    "        costi = distance / points2[:,0].size\n",
    "        cost += costi\n",
    "    print('%2d' %f,\" cost = \",round(cost,6))\n"
   ]
  },
  {
   "cell_type": "code",
   "execution_count": 59,
   "metadata": {},
   "outputs": [
    {
     "name": "stdout",
     "output_type": "stream",
     "text": [
      "accuracy = 0.9947009841029523\n"
     ]
    }
   ],
   "source": [
    "wrong=0\n",
    "for i in range(len(target)):\n",
    "    if target[i]!=pitch_type[i]:\n",
    "        wrong = wrong+1\n",
    "accuracy = 1-(wrong/len(target))\n",
    "print(\"accuracy =\", accuracy)"
   ]
  },
  {
   "cell_type": "code",
   "execution_count": 55,
   "metadata": {},
   "outputs": [
    {
     "data": {
      "text/plain": [
       "<matplotlib.collections.PathCollection at 0x196da08a208>"
      ]
     },
     "execution_count": 55,
     "metadata": {},
     "output_type": "execute_result"
    },
    {
     "data": {
      "image/png": "[encoded data removed]",
      "text/plain": [
       "<Figure size 432x288 with 1 Axes>"
      ]
     },
     "metadata": {},
     "output_type": "display_data"
    }
   ],
   "source": [
    "#draw the plot \n",
    "colors = ['r', 'g', 'y']\n",
    "fig, ax = plt.subplots()\n",
    "for i in range(k):\n",
    "        points = np.array([X[j] for j in range(len(X)) if pitch_type[j] == i])\n",
    "        ax.scatter(points[:, 0], points[:, 1], s=1, c=colors[i])\n",
    "ax.scatter(C[:, 0], C[:, 1], marker='*', s=100, c='black')"
   ]
  },
  {
   "cell_type": "code",
   "execution_count": null,
   "metadata": {},
   "outputs": [],
   "source": []
  }
 ],
 "metadata": {
  "kernelspec": {
   "display_name": "Python 3",
   "language": "python",
   "name": "python3"
  },
  "language_info": {
   "codemirror_mode": {
    "name": "ipython",
    "version": 3
   },
   "file_extension": ".py",
   "mimetype": "text/x-python",
   "name": "python",
   "nbconvert_exporter": "python",
   "pygments_lexer": "ipython3",
   "version": "3.6.6"
  }
 },
 "nbformat": 4,
 "nbformat_minor": 2
}
