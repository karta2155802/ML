{
 "cells": [
  {
   "cell_type": "code",
   "execution_count": 1,
   "metadata": {},
   "outputs": [],
   "source": [
    "import pandas as pd \n",
    "import numpy as np\n",
    "import matplotlib.pyplot as plt\n",
    "from sklearn.model_selection import train_test_split\n",
    "from sklearn.metrics import mean_squared_error, r2_score\n",
    "from random import randint\n",
    "%matplotlib inline\n",
    "#read data\n",
    "df = pd.read_csv('Concrete_Data.csv') "
   ]
  },
  {
   "cell_type": "code",
   "execution_count": 2,
   "metadata": {},
   "outputs": [],
   "source": [
    "X = [df['Cement (component 1)(kg in a m^3 mixture)'].values,\n",
    "     df['Blast Furnace Slag (component 2)(kg in a m^3 mixture)'].values,\n",
    "     df['Fly Ash (component 3)(kg in a m^3 mixture)'].values,\n",
    "     df['Water  (component 4)(kg in a m^3 mixture)'].values,\n",
    "     df['Superplasticizer (component 5)(kg in a m^3 mixture)'].values,\n",
    "     df['Coarse Aggregate  (component 6)(kg in a m^3 mixture)'].values,\n",
    "     df['Fine Aggregate (component 7)(kg in a m^3 mixture)'].values,\n",
    "     df['Age (day)'].values]\n",
    "y = df['Concrete compressive strength(MPa, megapascals) '].values\n",
    "X = np.array(X)\n",
    "X = X.transpose()\n",
    "y = np.array(y)\n",
    "X_train, X_test, y_train, y_test = train_test_split(X, y, test_size=0.2, random_state=1)\n",
    "\n",
    "features = X_train.shape[1]\n",
    "w = np.empty(features)\n",
    "w.fill(0)\n",
    "b=0\n",
    "h=lambda x : np.matmul(w,x) + b\n",
    "learn=0.000001\n",
    "N=len(X_train)"
   ]
  },
  {
   "cell_type": "code",
   "execution_count": 3,
   "metadata": {},
   "outputs": [
    {
     "name": "stdout",
     "output_type": "stream",
     "text": [
      "Weight: [ 0.11438799  0.0886608   0.08375223 -0.07982181  0.02329674 -0.00692622\n",
      "  0.01107201  0.09982904]\n",
      "Bias: 0.618698751047819\n",
      "r2_score: 0.4943192616369696\n",
      "mean_squared_error: 131.8282275874818\n"
     ]
    }
   ],
   "source": [
    "for i in range (1000):\n",
    "    sum_b = 0\n",
    "    sum_w = np.empty(features)\n",
    "    sum_w.fill(0)\n",
    "    for j in range (N):\n",
    "        sum_b += h(X_train[j])-y_train[j]\n",
    "        for k in range (features):\n",
    "            sum_w[k] += (h(X_train[j])-y_train[j]) * X_train[j][k]\n",
    "    sum_b, sum_w = sum_b/N, sum_w/N\n",
    "    b = b - (0.1 * sum_b)\n",
    "    w = w - (learn * sum_w)\n",
    "    \n",
    "y_pred = np.empty(len(X_test))\n",
    "for i in range (len(X_test)):\n",
    "    y_pred[i] = h(X_test[i])\n",
    "\n",
    "print(\"Weight: {}\".format(w))\n",
    "print(\"Bias: {}\".format(b))\n",
    "print(\"r2_score: {}\".format(r2_score(y_test, y_pred)))\n",
    "print(\"mean_squared_error: {}\".format(mean_squared_error(y_test, y_pred)))"
   ]
  },
  {
   "cell_type": "code",
   "execution_count": 4,
   "metadata": {},
   "outputs": [
    {
     "name": "stdout",
     "output_type": "stream",
     "text": [
      "Weight: [ 0.11682416  0.09184954  0.08744612 -0.08843464  0.02481475 -0.00423741\n",
      "  0.01285437  0.10272466]\n",
      "Bias: -3.1241331840678668\n",
      "r2_score: 0.5013601751242025\n",
      "mean_squared_error: 129.9926996047008\n"
     ]
    }
   ],
   "source": [
    "#only update one random weight per iteration\n",
    "for i in range (1000):\n",
    "    sum_b = 0\n",
    "    sum_w = np.empty(features)\n",
    "    sum_w.fill(0)\n",
    "    for j in range (N):\n",
    "        sum_b += h(X_train[j])-y_train[j]\n",
    "        for k in range (features):\n",
    "            sum_w[k] += (h(X_train[j])-y_train[j]) * X_train[j][k]\n",
    "    sum_b, sum_w = sum_b/N, sum_w/N\n",
    "    rd = randint(0,features-1)\n",
    "    b = b - (0.1 * sum_b)\n",
    "    w[rd] = w[rd] - (learn * sum_w[rd])\n",
    "    \n",
    "y_pred = np.empty(len(X_test))\n",
    "for i in range (len(X_test)):\n",
    "    y_pred[i] = h(X_test[i])\n",
    "\n",
    "print(\"Weight: {}\".format(w))\n",
    "print(\"Bias: {}\".format(b))\n",
    "print(\"r2_score: {}\".format(r2_score(y_test, y_pred)))\n",
    "print(\"mean_squared_error: {}\".format(mean_squared_error(y_test, y_pred)))"
   ]
  },
  {
   "cell_type": "code",
   "execution_count": null,
   "metadata": {},
   "outputs": [],
   "source": []
  }
 ],
 "metadata": {
  "kernelspec": {
   "display_name": "Python 3",
   "language": "python",
   "name": "python3"
  },
  "language_info": {
   "codemirror_mode": {
    "name": "ipython",
    "version": 3
   },
   "file_extension": ".py",
   "mimetype": "text/x-python",
   "name": "python",
   "nbconvert_exporter": "python",
   "pygments_lexer": "ipython3",
   "version": "3.7.0"
  }
 },
 "nbformat": 4,
 "nbformat_minor": 2
}
